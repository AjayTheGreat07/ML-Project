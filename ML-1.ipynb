{
 "cells": [
  {
   "cell_type": "code",
   "execution_count": 4,
   "id": "312c1213-39e0-4b55-ba0b-0ce9179edb36",
   "metadata": {},
   "outputs": [],
   "source": [
    "import matplotlib.pyplot as plt\n",
    "import pandas as pd\n",
    "pd.set_option('display.max_columns',200)"
   ]
  },
  {
   "cell_type": "code",
   "execution_count": 8,
   "id": "d193653f-02b9-4de6-bf38-2d702882492a",
   "metadata": {},
   "outputs": [],
   "source": [
    "df = pd.read_csv('/Users/ajay/Downloads/20181024_d1_0900_0930.csv')"
   ]
  },
  {
   "cell_type": "code",
   "execution_count": 10,
   "id": "df070982-8f74-4df8-95b2-7657e891ead2",
   "metadata": {},
   "outputs": [
    {
     "name": "stderr",
     "output_type": "stream",
     "text": [
      "/var/folders/4v/xsl642kx6y990v58cghq6h180000gn/T/ipykernel_86711/1019881219.py:1: FutureWarning: Series.__getitem__ treating keys as positions is deprecated. In a future version, integer keys will always be treated as labels (consistent with DataFrame behavior). To access a value by position, use `ser.iloc[pos]`\n",
      "  df.iloc[1][0]\n"
     ]
    },
    {
     "data": {
      "text/plain": [
       "'2; Motorcycle; 42.18; 28.119617; 37.977468; 23.737610; 29.9975; 0.0403; -0.1150; 0.000000; 37.977465; 23.737612; 29.9997; -0.0097; -0.1332; 0.040000; 37.977462; 23.737613; 29.9961; -0.0405; -0.1517; 0.080000; 37.977460; 23.737615; 29.9880; -0.0713; -0.1704; 0.120000; 37.977457; 23.737617; 29.9735; -0.1310; -0.1895; 0.160000; 37.977454; 23.737619; 29.9482; -0.2195; -0.2088; 0.200000; 37.977452; 23.737620; 29.9082; -0.3368; -0.2285; 0.240000; 37.977449; 23.737622; 29.8526; -0.4358; -0.2484; 0.280000; 37.977446; 23.737624; 29.7847; -0.5059; -0.2684; 0.320000; 37.977444; 23.737626; 29.7069; -0.5748; -0.2884; 0.360000; 37.977441; 23.737627; 29.6193; -0.6423; -0.3085; 0.400000; 37.977438; 23.737629; 29.5200; -0.7375; -0.3288; 0.440000; 37.977436; 23.737631; 29.4055; -0.8519; -0.3484; 0.480000; 37.977433; 23.737633; 29.6239; -0.4487; -0.2400; 0.520000; 37.977430; 23.737634; 29.5559; -0.4955; -0.2553; 0.560000; 37.977428; 23.737636; 29.4819; -0.5323; -0.2687; 0.600000; 37.977425; 23.737638; 29.4026; -0.5691; -0.2802; 0.640000; 37.977422; 23.737639; 29.3170; -0.6203; -0.2896; 0.680000; 37.977420; 23.737641; 29.2233; -0.6814; -0.2971; 0.720000; 37.977417; 23.737643; 29.1212; -0.7360; -0.3025; 0.760000; 37.977415; 23.737645; 29.0125; -0.7741; -0.3059; 0.800000; 37.977412; 23.737646; 28.8998; -0.7907; -0.3071; 0.840000; 37.977409; 23.737648; 28.7848; -0.8067; -0.3063; 0.880000; 37.977407; 23.737650; 28.6675; -0.8221; -0.3033; 0.920000; 37.977404; 23.737652; 28.5485; -0.8309; -0.2983; 0.960000; 37.977402; 23.737653; 28.4287; -0.8332; -0.2912; 1.000000; 37.977399; 23.737655; 28.3101; -0.8140; -0.2820; 1.040000; 37.977397; 23.737657; 28.1943; -0.7942; -0.2707; 1.080000; 37.977394; 23.737658; 28.0814; -0.7737; -0.2572; 1.120000; 37.977392; 23.737660; 27.9719; -0.7468; -0.2417; 1.160000; 37.977390; 23.737662; 27.8668; -0.7133; -0.2240; 1.200000; 37.977387; 23.737664; 27.7681; -0.6583; -0.2041; 1.240000; 37.977385; 23.737665; 27.6775; -0.5988; -0.1820; 1.280000; 37.977382; 23.737667; 27.5956; -0.5387; -0.1579; 1.320000; 37.977380; 23.737669; 27.5225; -0.4774; -0.1317; 1.360000; 37.977378; 23.737670; 27.4582; -0.4153; -0.1035; 1.400000; 37.977375; 23.737672; 27.4039; -0.3383; -0.0733; 1.440000; 37.977373; 23.737674; 27.3618; -0.2473; -0.0413; 1.480000; 37.977371; 23.737675; 27.3330; -0.1526; -0.0079; 1.520000; 37.977368; 23.737677; 27.3175; -0.0621; 0.0264; 1.560000; 37.977366; 23.737679; 27.3141; 0.0145; 0.0603; 1.600000; 37.977364; 23.737680; 27.3207; 0.0768; 0.0934; 1.640000; 37.977361; 23.737682; 27.3363; 0.1399; 0.1258; 1.680000; 37.977359; 23.737684; 27.3609; 0.2025; 0.1574; 1.720000; 37.977357; 23.737685; 27.3945; 0.2634; 0.1882; 1.760000; 37.977354; 23.737687; 27.4363; 0.3181; 0.2182; 1.800000; 37.977352; 23.737689; 27.4845; 0.3502; 0.2473; 1.840000; 37.977349; 23.737690; 27.5368; 0.3765; 0.2755; 1.880000; 37.977347; 23.737692; 27.5925; 0.3971; 0.3030; 1.920000; 37.977345; 23.737694; 27.6510; 0.4159; 0.3297; 1.960000; 37.977342; 23.737695; 27.7121; 0.4329; 0.3558; 2.000000; 37.977340; 23.737697; 27.7740; 0.4273; 0.3810; 2.040000; 37.977337; 23.737699; 27.8347; 0.4159; 0.4056; 2.080000; 37.977335; 23.737700; 27.8934; 0.3988; 0.4296; 2.120000; 37.977332; 23.737702; 27.9494; 0.3798; 0.4531; 2.160000; 37.977330; 23.737704; 28.0026; 0.3591; 0.4760; 2.200000; 37.977327; 23.737706; 28.0512; 0.3158; 0.4983; 2.240000; 37.977325; 23.737707; 28.0932; 0.2666; 0.5200; 2.280000; 37.977322; 23.737709; 28.1276; 0.2118; 0.5413; 2.320000; 37.977320; 23.737711; 28.1537; 0.1513; 0.5622; 2.360000; 37.977317; 23.737712; 28.1710; 0.0890; 0.5829; 2.400000; 37.977315; 23.737714; 28.1782; 0.0100; 0.6033; 2.440000; 37.977312; 23.737716; 28.1732; -0.0788; 0.6235; 2.480000; 37.977310; 23.737717; 28.1555; -0.1675; 0.6437; 2.520000; 37.977307; 23.737719; 28.1249; -0.2574; 0.6640; 2.560000; 37.977305; 23.737720; 28.0820; -0.3384; 0.6848; 2.600000; 37.977302; 23.737722; 28.0283; -0.4066; 0.7064; 2.640000; 37.977299; 23.737724; 27.9649; -0.4744; 0.7288; 2.680000; 37.977297; 23.737725; 27.8921; -0.5368; 0.7516; 2.720000; 37.977294; 23.737727; 27.8107; -0.5942; 0.7750; 2.760000; 37.977292; 23.737728; 27.7214; -0.6455; 0.7989; 2.800000; 37.977289; 23.737730; 27.6263; -0.6750; 0.8233; 2.840000; 37.977287; 23.737731; 27.5271; -0.7022; 0.8482; 2.880000; 37.977284; 23.737733; 27.4242; -0.7270; 0.8735; 2.920000; 37.977282; 23.737734; 27.3181; -0.7468; 0.8991; 2.960000; 37.977279; 23.737736; 27.2095; -0.7617; 0.9249; 3.000000; 37.977277; 23.737737; 27.1003; -0.7548; 0.9510; 3.040000; 37.977274; 23.737738; 26.9923; -0.7456; 0.9773; 3.080000; 37.977272; 23.737740; 26.8857; -0.7340; 1.0036; 3.120000; 37.977269; 23.737741; 26.7812; -0.7175; 1.0298; 3.160000; 37.977267; 23.737742; 26.6794; -0.6961; 1.0559; 3.200000; 37.977264; 23.737744; 26.5823; -0.6528; 1.0819; 3.240000; 37.977262; 23.737745; 26.4916; -0.6072; 1.1078; 3.280000; 37.977260; 23.737746; 26.4076; -0.5592; 1.1333; 3.320000; 37.977257; 23.737747; 26.3309; -0.5063; 1.1583; 3.360000; 37.977255; 23.737748; 26.2621; -0.4484; 1.1829; 3.400000; 37.977252; 23.737750; 26.2033; -0.3688; 1.2069; 3.440000; 37.977250; 23.737751; 26.1561; -0.2868; 1.2303; 3.480000; 37.977248; 23.737752; 26.1208; -0.2025; 1.2528; 3.520000; 37.977245; 23.737753; 26.0988; -0.1036; 1.2744; 3.560000; 37.977243; 23.737754; 26.0914; 0.0003; 1.2949; 3.600000; 37.977240; 23.737755; 26.0994; 0.1115; 1.3145; 3.640000; 37.977238; 23.737756; 26.1226; 0.2110; 1.3330; 3.680000; 37.977235; 23.737757; 26.1593; 0.2984; 1.3503; 3.720000; 37.977233; 23.737758; 26.2099; 0.4044; 1.3662; 3.760000; 37.977230; 23.737759; 26.2767; 0.5242; 1.3809; 3.800000; 37.977228; 23.737760; 26.3608; 0.6432; 1.3944; 3.840000; 37.977225; 23.737761; 26.4615; 0.7557; 1.4062; 3.880000; 37.977223; 23.737761; 26.5770; 0.8492; 1.4149; 3.920000; 37.977220; 23.737762; 26.7060; 0.9428; 1.4201; 3.960000; 37.977218; 23.737763; 26.8485; 1.0363; 1.4219; 4.000000; 37.977215; 23.737764; 27.0031; 1.1104; 1.4205; 4.040000; 37.977213; 23.737765; 27.1683; 1.1837; 1.4159; 4.080000; 37.977210; 23.737766; 27.3435; 1.2504; 1.4079; 4.120000; 37.977207; 23.737766; 27.5278; 1.3086; 1.3966; 4.160000; 37.977205; 23.737767; 27.7198; 1.3583; 1.3821; 4.200000; 37.977202; 23.737768; 27.9170; 1.3799; 1.3647; 4.240000; 37.977199; 23.737768; 28.1172; 1.4007; 1.3442; 4.280000; 37.977197; 23.737769; 28.3203; 1.4207; 1.3207; 4.320000; 37.977194; 23.737770; 28.5257; 1.4322; 1.2944; 4.360000; 37.977191; 23.737770; 28.7322; 1.4351; 1.2654; 4.400000; 37.977188; 23.737771; 28.9370; 1.4100; 1.2338; 4.440000; 37.977185; 23.737772; 29.1382; 1.3840; 1.1996; 4.480000; 37.977182; 23.737772; 29.3356; 1.3573; 1.1626; 4.520000; 37.977179; 23.737773; 29.5285; 1.3220; 1.1232; 4.560000; 37.977176; 23.737773; 29.7157; 1.2781; 1.0814; 4.600000; 37.977173; 23.737774; 29.8946; 1.2063; 1.0374; 4.640000; 37.977170; 23.737774; 30.0618; 1.1154; 0.9912; 4.680000; 37.977167; 23.737775; 30.2158; 1.0238; 0.9429; 4.720000; 37.977164; 23.737775; 30.3579; 0.9503; 0.8926; 4.760000; 37.977161; 23.737776; 30.4908; 0.8954; 0.8405; 4.800000; 37.977158; 23.737776; 30.6158; 0.8406; 0.7868; 4.840000; 37.977155; 23.737776; 30.7316; 0.7677; 0.7315; 4.880000; 37.977152; 23.737777; 30.8227; 0.7102; 0.7022; 4.920000; 37.977149; 23.737777; 30.9076; 0.6425; 0.6713; 4.960000; 37.977146; 23.737778; 30.9857; 0.5773; 0.6402; 5.000000; 37.977142; 23.737778; 31.0574; 0.5156; 0.6092; 5.040000; 37.977139; 23.737778; 31.1234; 0.4578; 0.5785; 5.080000; 37.977136; 23.737779; 31.1840; 0.4045; 0.5478; 5.120000; 37.977133; 23.737779; 31.2383; 0.3312; 0.5174; 5.160000; 37.977130; 23.737780; 31.2836; 0.2429; 0.4871; 5.200000; 37.977127; 23.737780; 31.3197; 0.1692; 0.4571; 5.240000; 37.977124; 23.737780; 31.3485; 0.1127; 0.4274; 5.280000; 37.977121; 23.737781; 31.3728; 0.0769; 0.3981; 5.320000; 37.977117; 23.737781; 31.3923; 0.0166; 0.3693; 5.360000; 37.977114; 23.737781; 31.4030; -0.0734; 0.3405; 5.400000; '"
      ]
     },
     "execution_count": 10,
     "metadata": {},
     "output_type": "execute_result"
    }
   ],
   "source": [
    "df.iloc[1][0]"
   ]
  },
  {
   "cell_type": "code",
   "execution_count": 14,
   "id": "216886cf-c94b-47d6-a15b-281bb75ba319",
   "metadata": {},
   "outputs": [
    {
     "name": "stdout",
     "output_type": "stream",
     "text": [
      "track_id; type; traveled_d; avg_speed; lat; lon; speed; lon_acc; lat_acc; time\n",
      "\n"
     ]
    }
   ],
   "source": [
    "csv_file = \"/Users/ajay/Downloads/20181024_d1_0900_0930.csv\"\n",
    "delimiter = ';'\n",
    "\n",
    "with open(csv_file, 'r') as file:\n",
    "    lines = file.readlines()\n",
    "    # lines = lines[1:]\n",
    "    # vehicle_information = \n",
    "    for line in lines:\n",
    "        # line = line.strip('\\n').strip(' ')\n",
    "        print(line)\n",
    "        break"
   ]
  },
  {
   "cell_type": "code",
   "execution_count": 16,
   "id": "7ec9a35b-8d52-43c5-8ff1-8b5d0ca9f425",
   "metadata": {},
   "outputs": [
    {
     "name": "stdout",
     "output_type": "stream",
     "text": [
      "[['1', 'Car', '40.02', '42.378689'], ['2', 'Motorcycle', '42.18', '28.119617'], ['3', 'Car', '21.35', '12.808216'], ['4', 'Car', '145.28', '33.961468'], ['5', 'Car', '305.48', '2.474650']]\n",
      "[['1', '37.976969', '23.737802', '45.3400', '0.0004', '0.0258', '0.000000'], ['1', '37.976964', '23.737801', '45.3400', '-0.0001', '0.0297', '0.040000'], ['1', '37.976960', '23.737800', '45.3400', '-0.0004', '0.0336', '0.080000'], ['1', '37.976955', '23.737799', '45.3399', '-0.0008', '0.0374', '0.120000'], ['1', '37.976951', '23.737798', '45.3397', '-0.0013', '0.0413', '0.160000'], ['1', '37.976946', '23.737797', '45.3395', '-0.0020', '0.0451', '0.200000'], ['1', '37.976942', '23.737796', '45.3391', '-0.0028', '0.0489', '0.240000'], ['1', '37.976938', '23.737795', '45.3374', '-0.0211', '0.0527', '0.280000'], ['1', '37.976933', '23.737794', '45.3331', '-0.0392', '0.0564', '0.320000'], ['1', '37.976929', '23.737793', '45.3280', '-0.0309', '0.0599', '0.360000'], ['1', '37.976924', '23.737792', '45.3261', '0.0038', '0.0633', '0.400000'], ['1', '37.976920', '23.737791', '45.3310', '0.0646', '0.0665', '0.440000'], ['1', '37.976915', '23.737790', '45.3459', '0.1430', '0.0690', '0.480000'], ['1', '37.976911', '23.737789', '45.3560', '0.1061', '0.0473', '0.520000'], ['1', '37.976906', '23.737788', '45.3726', '0.1240', '0.0476', '0.560000'], ['1', '37.976902', '23.737787', '45.3907', '0.1281', '0.0464', '0.600000'], ['1', '37.976897', '23.737786', '45.4085', '0.1185', '0.0437', '0.640000'], ['1', '37.976893', '23.737785', '45.4268', '0.1363', '0.0394', '0.680000'], ['1', '37.976888', '23.737784', '45.4484', '0.1631', '0.0334', '0.720000'], ['1', '37.976884', '23.737783', '45.4709', '0.1488', '0.0256', '0.760000'], ['1', '37.976879', '23.737782', '45.4883', '0.0935', '0.0161', '0.800000'], ['1', '37.976875', '23.737781', '45.4948', '-0.0029', '0.0048', '0.840000'], ['1', '37.976871', '23.737780', '45.4883', '-0.0880', '-0.0082', '0.880000'], ['1', '37.976866', '23.737779', '45.4715', '-0.1456', '-0.0228', '0.920000'], ['1', '37.976862', '23.737778', '45.4451', '-0.2201', '-0.0390', '0.960000'], ['1', '37.976857', '23.737777', '45.4069', '-0.3114', '-0.0567', '1.000000'], ['1', '37.976853', '23.737776', '45.3542', '-0.4193', '-0.0761', '1.040000'], ['1', '37.976848', '23.737775', '45.2851', '-0.5416', '-0.0966', '1.080000'], ['1', '37.976844', '23.737774', '45.1991', '-0.6526', '-0.1169', '1.120000'], ['1', '37.976839', '23.737773', '45.0987', '-0.7420', '-0.1367', '1.160000'], ['1', '37.976835', '23.737772', '44.9869', '-0.8100', '-0.1559', '1.200000'], ['1', '37.976830', '23.737771', '44.8669', '-0.8564', '-0.1745', '1.240000'], ['1', '37.976826', '23.737770', '44.7395', '-0.9138', '-0.1924', '1.280000'], ['1', '37.976821', '23.737769', '44.6027', '-0.9855', '-0.2095', '1.320000'], ['1', '37.976817', '23.737768', '44.4575', '-1.0315', '-0.2258', '1.360000'], ['1', '37.976812', '23.737767', '44.3069', '-1.0611', '-0.2412', '1.400000'], ['1', '37.976808', '23.737766', '44.1521', '-1.0877', '-0.2557', '1.440000'], ['1', '37.976803', '23.737765', '43.9918', '-1.1389', '-0.2693', '1.480000'], ['1', '37.976799', '23.737764', '43.8224', '-1.2147', '-0.2820', '1.520000'], ['1', '37.976794', '23.737763', '43.6425', '-1.2832', '-0.2934', '1.560000'], ['1', '37.976790', '23.737762', '43.4546', '-1.3262', '-0.3026', '1.600000'], ['1', '37.976786', '23.737761', '43.2627', '-1.3390', '-0.3094', '1.640000'], ['1', '37.976782', '23.737761', '43.0700', '-1.3386', '-0.3137', '1.680000'], ['1', '37.976777', '23.737760', '42.8774', '-1.3354', '-0.3155', '1.720000'], ['1', '37.976773', '23.737759', '42.6835', '-1.3588', '-0.3149', '1.760000'], ['1', '37.976769', '23.737758', '42.4855', '-1.3906', '-0.3116', '1.800000'], ['1', '37.976765', '23.737757', '42.2860', '-1.3806', '-0.3057', '1.840000'], ['1', '37.976761', '23.737756', '42.0912', '-1.3245', '-0.2972', '1.880000'], ['1', '37.976757', '23.737756', '41.9074', '-1.2279', '-0.2870', '1.920000'], ['1', '37.976753', '23.737755', '41.7362', '-1.1499', '-0.2751', '1.960000']]\n"
     ]
    }
   ],
   "source": [
    "with open(csv_file, 'r') as file:\n",
    "    lines = file.readlines()\n",
    "    # lines = lines[1:]\n",
    "    vehicle_information = []\n",
    "    trajectory_information = []\n",
    "     # jumping the first line which is the header ['track_id', ' type', ' traveled_d', ' avg_speed', ' lat', ' lon', ' speed', ' lon_acc', ' lat_acc', ' time']\n",
    "    lines = lines[1:]\n",
    "    for line in lines:\n",
    "        # removing the \\n at the end of the line\n",
    "        line = line.strip('\\n').strip(' ')\n",
    "        # splitting the contents based on ;\n",
    "        contents = line.split(delimiter)\n",
    "        # removing the white spaces\n",
    "        contents = [contents[i].strip() for i in range(len(contents))]\n",
    "\n",
    "        vehicle_information.append(contents[:4])\n",
    "\n",
    "        k = 4 # skipping the first 4 columns which are track_id, type, traveled_d, avg_speed\n",
    "        for i in range(k, len(contents),6):\n",
    "            # concatenating the track_id with the trajectory information\n",
    "            trajectory_information.append([contents[0],*contents[i:i+6]])\n",
    "\n",
    "            \n",
    "print(vehicle_information[0:5])\n",
    "print(trajectory_information[0:50])"
   ]
  },
  {
   "cell_type": "code",
   "execution_count": 18,
   "id": "789827ab-6606-47ec-b714-84063fdfaa81",
   "metadata": {},
   "outputs": [
    {
     "name": "stdout",
     "output_type": "stream",
     "text": [
      "(1113, 4)\n"
     ]
    },
    {
     "data": {
      "text/html": [
       "<div>\n",
       "<style scoped>\n",
       "    .dataframe tbody tr th:only-of-type {\n",
       "        vertical-align: middle;\n",
       "    }\n",
       "\n",
       "    .dataframe tbody tr th {\n",
       "        vertical-align: top;\n",
       "    }\n",
       "\n",
       "    .dataframe thead th {\n",
       "        text-align: right;\n",
       "    }\n",
       "</style>\n",
       "<table border=\"1\" class=\"dataframe\">\n",
       "  <thead>\n",
       "    <tr style=\"text-align: right;\">\n",
       "      <th></th>\n",
       "      <th>track_id</th>\n",
       "      <th>type</th>\n",
       "      <th>traveled_d</th>\n",
       "      <th>avg_speed</th>\n",
       "    </tr>\n",
       "  </thead>\n",
       "  <tbody>\n",
       "    <tr>\n",
       "      <th>0</th>\n",
       "      <td>1</td>\n",
       "      <td>Car</td>\n",
       "      <td>40.02</td>\n",
       "      <td>42.378689</td>\n",
       "    </tr>\n",
       "    <tr>\n",
       "      <th>1</th>\n",
       "      <td>2</td>\n",
       "      <td>Motorcycle</td>\n",
       "      <td>42.18</td>\n",
       "      <td>28.119617</td>\n",
       "    </tr>\n",
       "    <tr>\n",
       "      <th>2</th>\n",
       "      <td>3</td>\n",
       "      <td>Car</td>\n",
       "      <td>21.35</td>\n",
       "      <td>12.808216</td>\n",
       "    </tr>\n",
       "    <tr>\n",
       "      <th>3</th>\n",
       "      <td>4</td>\n",
       "      <td>Car</td>\n",
       "      <td>145.28</td>\n",
       "      <td>33.961468</td>\n",
       "    </tr>\n",
       "    <tr>\n",
       "      <th>4</th>\n",
       "      <td>5</td>\n",
       "      <td>Car</td>\n",
       "      <td>305.48</td>\n",
       "      <td>2.474650</td>\n",
       "    </tr>\n",
       "  </tbody>\n",
       "</table>\n",
       "</div>"
      ],
      "text/plain": [
       "  track_id        type traveled_d  avg_speed\n",
       "0        1         Car      40.02  42.378689\n",
       "1        2  Motorcycle      42.18  28.119617\n",
       "2        3         Car      21.35  12.808216\n",
       "3        4         Car     145.28  33.961468\n",
       "4        5         Car     305.48   2.474650"
      ]
     },
     "execution_count": 18,
     "metadata": {},
     "output_type": "execute_result"
    }
   ],
   "source": [
    "df_vehicle = pd.DataFrame(data= vehicle_information,columns=['track_id','type','traveled_d','avg_speed'])\n",
    "\n",
    "print(df_vehicle.shape)\n",
    "df_vehicle.head()"
   ]
  },
  {
   "cell_type": "code",
   "execution_count": 20,
   "id": "ad52ccc4-db3f-489b-9653-0185b9f00e82",
   "metadata": {},
   "outputs": [
    {
     "name": "stdout",
     "output_type": "stream",
     "text": [
      "(2044076, 7)\n"
     ]
    },
    {
     "data": {
      "text/html": [
       "<div>\n",
       "<style scoped>\n",
       "    .dataframe tbody tr th:only-of-type {\n",
       "        vertical-align: middle;\n",
       "    }\n",
       "\n",
       "    .dataframe tbody tr th {\n",
       "        vertical-align: top;\n",
       "    }\n",
       "\n",
       "    .dataframe thead th {\n",
       "        text-align: right;\n",
       "    }\n",
       "</style>\n",
       "<table border=\"1\" class=\"dataframe\">\n",
       "  <thead>\n",
       "    <tr style=\"text-align: right;\">\n",
       "      <th></th>\n",
       "      <th>track_id</th>\n",
       "      <th>lat</th>\n",
       "      <th>lon</th>\n",
       "      <th>speed</th>\n",
       "      <th>lon_acc</th>\n",
       "      <th>lat_acc</th>\n",
       "      <th>time</th>\n",
       "    </tr>\n",
       "  </thead>\n",
       "  <tbody>\n",
       "    <tr>\n",
       "      <th>0</th>\n",
       "      <td>1</td>\n",
       "      <td>37.976969</td>\n",
       "      <td>23.737802</td>\n",
       "      <td>45.3400</td>\n",
       "      <td>0.0004</td>\n",
       "      <td>0.0258</td>\n",
       "      <td>0.000000</td>\n",
       "    </tr>\n",
       "    <tr>\n",
       "      <th>1</th>\n",
       "      <td>1</td>\n",
       "      <td>37.976964</td>\n",
       "      <td>23.737801</td>\n",
       "      <td>45.3400</td>\n",
       "      <td>-0.0001</td>\n",
       "      <td>0.0297</td>\n",
       "      <td>0.040000</td>\n",
       "    </tr>\n",
       "    <tr>\n",
       "      <th>2</th>\n",
       "      <td>1</td>\n",
       "      <td>37.976960</td>\n",
       "      <td>23.737800</td>\n",
       "      <td>45.3400</td>\n",
       "      <td>-0.0004</td>\n",
       "      <td>0.0336</td>\n",
       "      <td>0.080000</td>\n",
       "    </tr>\n",
       "    <tr>\n",
       "      <th>3</th>\n",
       "      <td>1</td>\n",
       "      <td>37.976955</td>\n",
       "      <td>23.737799</td>\n",
       "      <td>45.3399</td>\n",
       "      <td>-0.0008</td>\n",
       "      <td>0.0374</td>\n",
       "      <td>0.120000</td>\n",
       "    </tr>\n",
       "    <tr>\n",
       "      <th>4</th>\n",
       "      <td>1</td>\n",
       "      <td>37.976951</td>\n",
       "      <td>23.737798</td>\n",
       "      <td>45.3397</td>\n",
       "      <td>-0.0013</td>\n",
       "      <td>0.0413</td>\n",
       "      <td>0.160000</td>\n",
       "    </tr>\n",
       "    <tr>\n",
       "      <th>...</th>\n",
       "      <td>...</td>\n",
       "      <td>...</td>\n",
       "      <td>...</td>\n",
       "      <td>...</td>\n",
       "      <td>...</td>\n",
       "      <td>...</td>\n",
       "      <td>...</td>\n",
       "    </tr>\n",
       "    <tr>\n",
       "      <th>995</th>\n",
       "      <td>5</td>\n",
       "      <td>37.979434</td>\n",
       "      <td>23.735979</td>\n",
       "      <td>0.0000</td>\n",
       "      <td>0.0000</td>\n",
       "      <td>0.0000</td>\n",
       "      <td>9.280000</td>\n",
       "    </tr>\n",
       "    <tr>\n",
       "      <th>996</th>\n",
       "      <td>5</td>\n",
       "      <td>37.979434</td>\n",
       "      <td>23.735979</td>\n",
       "      <td>0.0000</td>\n",
       "      <td>0.0000</td>\n",
       "      <td>0.0000</td>\n",
       "      <td>9.320000</td>\n",
       "    </tr>\n",
       "    <tr>\n",
       "      <th>997</th>\n",
       "      <td>5</td>\n",
       "      <td>37.979434</td>\n",
       "      <td>23.735979</td>\n",
       "      <td>0.0000</td>\n",
       "      <td>0.0000</td>\n",
       "      <td>0.0000</td>\n",
       "      <td>9.360000</td>\n",
       "    </tr>\n",
       "    <tr>\n",
       "      <th>998</th>\n",
       "      <td>5</td>\n",
       "      <td>37.979434</td>\n",
       "      <td>23.735979</td>\n",
       "      <td>0.0000</td>\n",
       "      <td>0.0000</td>\n",
       "      <td>0.0000</td>\n",
       "      <td>9.400000</td>\n",
       "    </tr>\n",
       "    <tr>\n",
       "      <th>999</th>\n",
       "      <td>5</td>\n",
       "      <td>37.979434</td>\n",
       "      <td>23.735979</td>\n",
       "      <td>0.0000</td>\n",
       "      <td>0.0000</td>\n",
       "      <td>0.0000</td>\n",
       "      <td>9.440000</td>\n",
       "    </tr>\n",
       "  </tbody>\n",
       "</table>\n",
       "<p>1000 rows × 7 columns</p>\n",
       "</div>"
      ],
      "text/plain": [
       "    track_id        lat        lon    speed  lon_acc lat_acc      time\n",
       "0          1  37.976969  23.737802  45.3400   0.0004  0.0258  0.000000\n",
       "1          1  37.976964  23.737801  45.3400  -0.0001  0.0297  0.040000\n",
       "2          1  37.976960  23.737800  45.3400  -0.0004  0.0336  0.080000\n",
       "3          1  37.976955  23.737799  45.3399  -0.0008  0.0374  0.120000\n",
       "4          1  37.976951  23.737798  45.3397  -0.0013  0.0413  0.160000\n",
       "..       ...        ...        ...      ...      ...     ...       ...\n",
       "995        5  37.979434  23.735979   0.0000   0.0000  0.0000  9.280000\n",
       "996        5  37.979434  23.735979   0.0000   0.0000  0.0000  9.320000\n",
       "997        5  37.979434  23.735979   0.0000   0.0000  0.0000  9.360000\n",
       "998        5  37.979434  23.735979   0.0000   0.0000  0.0000  9.400000\n",
       "999        5  37.979434  23.735979   0.0000   0.0000  0.0000  9.440000\n",
       "\n",
       "[1000 rows x 7 columns]"
      ]
     },
     "execution_count": 20,
     "metadata": {},
     "output_type": "execute_result"
    }
   ],
   "source": [
    "df_trajectory = pd.DataFrame(data= trajectory_information ,columns=['track_id','lat','lon','speed','lon_acc','lat_acc','time'])\n",
    "\n",
    "print(df_trajectory.shape)\n",
    "df_trajectory.head(1000)"
   ]
  },
  {
   "cell_type": "code",
   "execution_count": 22,
   "id": "35cc7317-76e1-4a30-9d18-5530199afbba",
   "metadata": {},
   "outputs": [],
   "source": [
    "df_trajectory.dropna(subset=['lat','lon','speed','lon_acc','time'],inplace=True)\n"
   ]
  },
  {
   "cell_type": "code",
   "execution_count": 24,
   "id": "03902bf7-e1b7-45c5-a9df-315d5bbd41fa",
   "metadata": {},
   "outputs": [
    {
     "data": {
      "text/plain": [
       "track_id      object\n",
       "type          object\n",
       "traveled_d    object\n",
       "avg_speed     object\n",
       "dtype: object"
      ]
     },
     "execution_count": 24,
     "metadata": {},
     "output_type": "execute_result"
    }
   ],
   "source": [
    "df_vehicle.dtypes"
   ]
  },
  {
   "cell_type": "code",
   "execution_count": 26,
   "id": "480053ef-6cf3-42d9-a517-516e3f42f073",
   "metadata": {},
   "outputs": [
    {
     "data": {
      "text/plain": [
       "track_id       object\n",
       "type           object\n",
       "traveled_d    float64\n",
       "avg_speed     float64\n",
       "dtype: object"
      ]
     },
     "execution_count": 26,
     "metadata": {},
     "output_type": "execute_result"
    }
   ],
   "source": [
    "df_vehicle['traveled_d'] = df_vehicle['traveled_d'].astype(float)\n",
    "df_vehicle['avg_speed'] = df_vehicle['avg_speed'].astype(float)\n",
    "df_vehicle.dtypes\n"
   ]
  },
  {
   "cell_type": "code",
   "execution_count": 28,
   "id": "3b0da45c-1fd9-4dbb-b38b-c3a45a384303",
   "metadata": {},
   "outputs": [
    {
     "data": {
      "text/plain": [
       "track_id    object\n",
       "lat         object\n",
       "lon         object\n",
       "speed       object\n",
       "lon_acc     object\n",
       "lat_acc     object\n",
       "time        object\n",
       "dtype: object"
      ]
     },
     "execution_count": 28,
     "metadata": {},
     "output_type": "execute_result"
    }
   ],
   "source": [
    "df_trajectory.dtypes"
   ]
  },
  {
   "cell_type": "code",
   "execution_count": 30,
   "id": "96862721-6c83-4938-9e18-958b8bf19fff",
   "metadata": {},
   "outputs": [
    {
     "data": {
      "text/plain": [
       "track_id     object\n",
       "lat         float64\n",
       "lon         float64\n",
       "speed       float64\n",
       "lon_acc     float64\n",
       "lat_acc     float64\n",
       "time        float64\n",
       "dtype: object"
      ]
     },
     "execution_count": 30,
     "metadata": {},
     "output_type": "execute_result"
    }
   ],
   "source": [
    "df_trajectory['lat'] = df_trajectory['lat'].astype(float)\n",
    "df_trajectory['lon'] = df_trajectory['lon'].astype(float)\n",
    "df_trajectory['speed'] = df_trajectory['speed'].astype(float)\n",
    "df_trajectory['lon_acc'] = df_trajectory['lon_acc'].astype(float)\n",
    "df_trajectory['lat_acc'] = df_trajectory['lat_acc'].astype(float)\n",
    "df_trajectory['time'] = df_trajectory['time'].astype(float)\n",
    "df_trajectory.dtypes\n"
   ]
  },
  {
   "cell_type": "code",
   "execution_count": 44,
   "id": "1ed1a41f-0f4d-460b-b734-82cb3c22c7a7",
   "metadata": {},
   "outputs": [
    {
     "data": {
      "text/plain": [
       "(2042963, 7)"
      ]
     },
     "execution_count": 44,
     "metadata": {},
     "output_type": "execute_result"
    }
   ],
   "source": [
    "df_trajectory.shape"
   ]
  },
  {
   "cell_type": "code",
   "execution_count": 4,
   "id": "eed1716d-e548-439f-aee3-93d885079e0e",
   "metadata": {},
   "outputs": [
    {
     "name": "stdout",
     "output_type": "stream",
     "text": [
      "Collecting geopandas\n",
      "  Downloading geopandas-1.0.1-py3-none-any.whl.metadata (2.2 kB)\n",
      "Requirement already satisfied: numpy>=1.22 in /opt/anaconda3/lib/python3.11/site-packages (from geopandas) (1.26.4)\n",
      "Collecting pyogrio>=0.7.2 (from geopandas)\n",
      "  Downloading pyogrio-0.10.0-cp311-cp311-macosx_12_0_arm64.whl.metadata (5.5 kB)\n",
      "Requirement already satisfied: packaging in /opt/anaconda3/lib/python3.11/site-packages (from geopandas) (23.1)\n",
      "Requirement already satisfied: pandas>=1.4.0 in /opt/anaconda3/lib/python3.11/site-packages (from geopandas) (2.2.3)\n",
      "Collecting pyproj>=3.3.0 (from geopandas)\n",
      "  Downloading pyproj-3.7.1-cp311-cp311-macosx_14_0_arm64.whl.metadata (31 kB)\n",
      "Collecting shapely>=2.0.0 (from geopandas)\n",
      "  Downloading shapely-2.0.7-cp311-cp311-macosx_11_0_arm64.whl.metadata (6.8 kB)\n",
      "Requirement already satisfied: python-dateutil>=2.8.2 in /opt/anaconda3/lib/python3.11/site-packages (from pandas>=1.4.0->geopandas) (2.8.2)\n",
      "Requirement already satisfied: pytz>=2020.1 in /opt/anaconda3/lib/python3.11/site-packages (from pandas>=1.4.0->geopandas) (2023.3.post1)\n",
      "Requirement already satisfied: tzdata>=2022.7 in /opt/anaconda3/lib/python3.11/site-packages (from pandas>=1.4.0->geopandas) (2023.3)\n",
      "Requirement already satisfied: certifi in /opt/anaconda3/lib/python3.11/site-packages (from pyogrio>=0.7.2->geopandas) (2025.1.31)\n",
      "Requirement already satisfied: six>=1.5 in /opt/anaconda3/lib/python3.11/site-packages (from python-dateutil>=2.8.2->pandas>=1.4.0->geopandas) (1.16.0)\n",
      "Downloading geopandas-1.0.1-py3-none-any.whl (323 kB)\n",
      "Downloading pyogrio-0.10.0-cp311-cp311-macosx_12_0_arm64.whl (15.1 MB)\n",
      "\u001b[2K   \u001b[90m━━━━━━━━━━━━━━━━━━━━━━━━━━━━━━━━━━━━━━━━\u001b[0m \u001b[32m15.1/15.1 MB\u001b[0m \u001b[31m2.5 MB/s\u001b[0m eta \u001b[36m0:00:00\u001b[0ma \u001b[36m0:00:01\u001b[0m\n",
      "\u001b[?25hDownloading pyproj-3.7.1-cp311-cp311-macosx_14_0_arm64.whl (4.7 MB)\n",
      "\u001b[2K   \u001b[90m━━━━━━━━━━━━━━━━━━━━━━━━━━━━━━━━━━━━━━━━\u001b[0m \u001b[32m4.7/4.7 MB\u001b[0m \u001b[31m2.4 MB/s\u001b[0m eta \u001b[36m0:00:00\u001b[0ma \u001b[36m0:00:01\u001b[0m0m\n",
      "\u001b[?25hDownloading shapely-2.0.7-cp311-cp311-macosx_11_0_arm64.whl (1.3 MB)\n",
      "\u001b[2K   \u001b[90m━━━━━━━━━━━━━━━━━━━━━━━━━━━━━━━━━━━━━━━━\u001b[0m \u001b[32m1.3/1.3 MB\u001b[0m \u001b[31m1.7 MB/s\u001b[0m eta \u001b[36m0:00:00\u001b[0ma \u001b[36m0:00:01\u001b[0m\n",
      "\u001b[?25hInstalling collected packages: shapely, pyproj, pyogrio, geopandas\n",
      "Successfully installed geopandas-1.0.1 pyogrio-0.10.0 pyproj-3.7.1 shapely-2.0.7\n",
      "\n",
      "\u001b[1m[\u001b[0m\u001b[34;49mnotice\u001b[0m\u001b[1;39;49m]\u001b[0m\u001b[39;49m A new release of pip is available: \u001b[0m\u001b[31;49m25.0\u001b[0m\u001b[39;49m -> \u001b[0m\u001b[32;49m25.0.1\u001b[0m\n",
      "\u001b[1m[\u001b[0m\u001b[34;49mnotice\u001b[0m\u001b[1;39;49m]\u001b[0m\u001b[39;49m To update, run: \u001b[0m\u001b[32;49mpip install --upgrade pip\u001b[0m\n",
      "Note: you may need to restart the kernel to use updated packages.\n"
     ]
    }
   ],
   "source": [
    "pip install geopandas"
   ]
  },
  {
   "cell_type": "code",
   "execution_count": null,
   "id": "dd1bc401-5d15-47ca-8577-969f57675604",
   "metadata": {},
   "outputs": [],
   "source": []
  },
  {
   "cell_type": "code",
   "execution_count": null,
   "id": "2ed27931-6cc7-4ba7-abaf-593f5013c9c6",
   "metadata": {},
   "outputs": [],
   "source": []
  },
  {
   "cell_type": "code",
   "execution_count": 10,
   "id": "3e06a04c-7c6c-478a-ba05-83fe2ce66b8c",
   "metadata": {},
   "outputs": [
    {
     "name": "stdout",
     "output_type": "stream",
     "text": [
      "Collecting movingpandas\n",
      "  Downloading movingpandas-0.21.2-py3-none-any.whl.metadata (1.2 kB)\n",
      "Requirement already satisfied: matplotlib in /opt/anaconda3/lib/python3.11/site-packages (from movingpandas) (3.9.2)\n",
      "Requirement already satisfied: geopandas in /opt/anaconda3/lib/python3.11/site-packages (from movingpandas) (1.0.1)\n",
      "Collecting geopy (from movingpandas)\n",
      "  Downloading geopy-2.4.1-py3-none-any.whl.metadata (6.8 kB)\n",
      "Requirement already satisfied: numpy>=1.22 in /opt/anaconda3/lib/python3.11/site-packages (from geopandas->movingpandas) (1.26.4)\n",
      "Requirement already satisfied: pyogrio>=0.7.2 in /opt/anaconda3/lib/python3.11/site-packages (from geopandas->movingpandas) (0.10.0)\n",
      "Requirement already satisfied: packaging in /opt/anaconda3/lib/python3.11/site-packages (from geopandas->movingpandas) (23.1)\n",
      "Requirement already satisfied: pandas>=1.4.0 in /opt/anaconda3/lib/python3.11/site-packages (from geopandas->movingpandas) (2.2.3)\n",
      "Requirement already satisfied: pyproj>=3.3.0 in /opt/anaconda3/lib/python3.11/site-packages (from geopandas->movingpandas) (3.7.1)\n",
      "Requirement already satisfied: shapely>=2.0.0 in /opt/anaconda3/lib/python3.11/site-packages (from geopandas->movingpandas) (2.0.7)\n",
      "Collecting geographiclib<3,>=1.52 (from geopy->movingpandas)\n",
      "  Downloading geographiclib-2.0-py3-none-any.whl.metadata (1.4 kB)\n",
      "Requirement already satisfied: contourpy>=1.0.1 in /opt/anaconda3/lib/python3.11/site-packages (from matplotlib->movingpandas) (1.2.0)\n",
      "Requirement already satisfied: cycler>=0.10 in /opt/anaconda3/lib/python3.11/site-packages (from matplotlib->movingpandas) (0.11.0)\n",
      "Requirement already satisfied: fonttools>=4.22.0 in /opt/anaconda3/lib/python3.11/site-packages (from matplotlib->movingpandas) (4.25.0)\n",
      "Requirement already satisfied: kiwisolver>=1.3.1 in /opt/anaconda3/lib/python3.11/site-packages (from matplotlib->movingpandas) (1.4.4)\n",
      "Requirement already satisfied: pillow>=8 in /opt/anaconda3/lib/python3.11/site-packages (from matplotlib->movingpandas) (10.2.0)\n",
      "Requirement already satisfied: pyparsing>=2.3.1 in /opt/anaconda3/lib/python3.11/site-packages (from matplotlib->movingpandas) (3.0.9)\n",
      "Requirement already satisfied: python-dateutil>=2.7 in /opt/anaconda3/lib/python3.11/site-packages (from matplotlib->movingpandas) (2.8.2)\n",
      "Requirement already satisfied: pytz>=2020.1 in /opt/anaconda3/lib/python3.11/site-packages (from pandas>=1.4.0->geopandas->movingpandas) (2023.3.post1)\n",
      "Requirement already satisfied: tzdata>=2022.7 in /opt/anaconda3/lib/python3.11/site-packages (from pandas>=1.4.0->geopandas->movingpandas) (2023.3)\n",
      "Requirement already satisfied: certifi in /opt/anaconda3/lib/python3.11/site-packages (from pyogrio>=0.7.2->geopandas->movingpandas) (2025.1.31)\n",
      "Requirement already satisfied: six>=1.5 in /opt/anaconda3/lib/python3.11/site-packages (from python-dateutil>=2.7->matplotlib->movingpandas) (1.16.0)\n",
      "Downloading movingpandas-0.21.2-py3-none-any.whl (78 kB)\n",
      "Downloading geopy-2.4.1-py3-none-any.whl (125 kB)\n",
      "Downloading geographiclib-2.0-py3-none-any.whl (40 kB)\n",
      "Installing collected packages: geographiclib, geopy, movingpandas\n",
      "Successfully installed geographiclib-2.0 geopy-2.4.1 movingpandas-0.21.2\n",
      "\n",
      "\u001b[1m[\u001b[0m\u001b[34;49mnotice\u001b[0m\u001b[1;39;49m]\u001b[0m\u001b[39;49m A new release of pip is available: \u001b[0m\u001b[31;49m25.0\u001b[0m\u001b[39;49m -> \u001b[0m\u001b[32;49m25.0.1\u001b[0m\n",
      "\u001b[1m[\u001b[0m\u001b[34;49mnotice\u001b[0m\u001b[1;39;49m]\u001b[0m\u001b[39;49m To update, run: \u001b[0m\u001b[32;49mpip install --upgrade pip\u001b[0m\n",
      "Note: you may need to restart the kernel to use updated packages.\n"
     ]
    }
   ],
   "source": [
    "pip install movingpandas"
   ]
  }
 ],
 "metadata": {
  "kernelspec": {
   "display_name": "Python [conda env:base] *",
   "language": "python",
   "name": "conda-base-py"
  },
  "language_info": {
   "codemirror_mode": {
    "name": "ipython",
    "version": 3
   },
   "file_extension": ".py",
   "mimetype": "text/x-python",
   "name": "python",
   "nbconvert_exporter": "python",
   "pygments_lexer": "ipython3",
   "version": "3.11.8"
  }
 },
 "nbformat": 4,
 "nbformat_minor": 5
}
